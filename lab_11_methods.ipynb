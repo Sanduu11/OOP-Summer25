{
 "cells": [
  {
   "cell_type": "markdown",
   "id": "003d577a",
   "metadata": {},
   "source": [
    "# Class"
   ]
  },
  {
   "cell_type": "code",
   "execution_count": 10,
   "id": "74ee462b",
   "metadata": {},
   "outputs": [],
   "source": [
    "class Student:\n",
    "    def hello(self):\n",
    "        print(\"Hello! i'm Sandu, i'm a new student\")"
   ]
  },
  {
   "cell_type": "code",
   "execution_count": 11,
   "id": "2132cd9d",
   "metadata": {},
   "outputs": [
    {
     "name": "stdout",
     "output_type": "stream",
     "text": [
      "Hello! i'm Sandu, i'm a new student\n"
     ]
    }
   ],
   "source": [
    "student1 = Student()\n",
    "student1.hello()"
   ]
  },
  {
   "cell_type": "markdown",
   "id": "3b853f29",
   "metadata": {},
   "source": [
    "## Task2"
   ]
  },
  {
   "cell_type": "code",
   "execution_count": 2,
   "id": "5477dc61",
   "metadata": {},
   "outputs": [],
   "source": [
    "class Student:\n",
    "    def __init__(self, name, index_number):\n",
    "        self.name = name\n",
    "        self.index_number = index_number\n",
    "    def hello(self):\n",
    "        print(f\"Hello, I am {self.name}, my index number is {self.index_number}\")"
   ]
  },
  {
   "cell_type": "code",
   "execution_count": 4,
   "id": "31a711e0",
   "metadata": {},
   "outputs": [
    {
     "name": "stdout",
     "output_type": "stream",
     "text": [
      "Hello, I am Sandugash Nurbolat, my index number is 36784\n"
     ]
    }
   ],
   "source": [
    "student2 = Student(\"Sandugash Nurbolat\", 36784)\n",
    "student2.hello()"
   ]
  }
 ],
 "metadata": {
  "kernelspec": {
   "display_name": ".venv",
   "language": "python",
   "name": "python3"
  },
  "language_info": {
   "codemirror_mode": {
    "name": "ipython",
    "version": 3
   },
   "file_extension": ".py",
   "mimetype": "text/x-python",
   "name": "python",
   "nbconvert_exporter": "python",
   "pygments_lexer": "ipython3",
   "version": "3.12.1"
  }
 },
 "nbformat": 4,
 "nbformat_minor": 5
}
