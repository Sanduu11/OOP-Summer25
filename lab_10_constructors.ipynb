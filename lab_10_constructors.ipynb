{
 "cells": [
  {
   "cell_type": "markdown",
   "id": "8c5e894a",
   "metadata": {},
   "source": [
    "# Class Animal"
   ]
  },
  {
   "cell_type": "code",
   "execution_count": 10,
   "id": "2525a781",
   "metadata": {},
   "outputs": [],
   "source": [
    "class Animal:\n",
    "   def __init__(self):\n",
    "       print('Welcome a new animal!')"
   ]
  },
  {
   "cell_type": "code",
   "execution_count": 11,
   "id": "e4552914",
   "metadata": {},
   "outputs": [
    {
     "name": "stdout",
     "output_type": "stream",
     "text": [
      "Welcome a new animal!\n",
      "Welcome a new animal!\n",
      "Welcome a new animal!\n"
     ]
    }
   ],
   "source": [
    "animal1 = Animal ()\n",
    "animal2 = Animal ()\n",
    "animal3 = Animal ()"
   ]
  }
 ],
 "metadata": {
  "kernelspec": {
   "display_name": ".venv",
   "language": "python",
   "name": "python3"
  },
  "language_info": {
   "codemirror_mode": {
    "name": "ipython",
    "version": 3
   },
   "file_extension": ".py",
   "mimetype": "text/x-python",
   "name": "python",
   "nbconvert_exporter": "python",
   "pygments_lexer": "ipython3",
   "version": "3.12.1"
  }
 },
 "nbformat": 4,
 "nbformat_minor": 5
}
