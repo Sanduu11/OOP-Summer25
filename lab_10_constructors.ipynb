{
 "cells": [
  {
   "cell_type": "markdown",
   "id": "8c5e894a",
   "metadata": {},
   "source": [
    "# Class Animal"
   ]
  },
  {
   "cell_type": "code",
   "execution_count": 101,
   "id": "2525a781",
   "metadata": {},
   "outputs": [],
   "source": [
    "class Animal:\n",
    "   def __init__(self):\n",
    "       print('Welcome a new animal!')"
   ]
  },
  {
   "cell_type": "code",
   "execution_count": 102,
   "id": "e4552914",
   "metadata": {},
   "outputs": [
    {
     "name": "stdout",
     "output_type": "stream",
     "text": [
      "Welcome a new animal!\n",
      "Welcome a new animal!\n",
      "Welcome a new animal!\n"
     ]
    }
   ],
   "source": [
    "animal1 = Animal ()\n",
    "animal2 = Animal ()\n",
    "animal3 = Animal ()"
   ]
  },
  {
   "cell_type": "markdown",
   "id": "f6df7ea8",
   "metadata": {},
   "source": [
    "# Class Car"
   ]
  },
  {
   "cell_type": "code",
   "execution_count": 103,
   "id": "5b7441b2",
   "metadata": {},
   "outputs": [],
   "source": [
    "class Car:\n",
    "    def __init__(self, brand, model):\n",
    "        self.brand = brand\n",
    "        self.model = model\n",
    "        print(f\"Car created {self.brand} {self.model}\")"
   ]
  },
  {
   "cell_type": "code",
   "execution_count": 104,
   "id": "2a53c53a",
   "metadata": {},
   "outputs": [
    {
     "name": "stdout",
     "output_type": "stream",
     "text": [
      "Car created Toyota bZ4X\n",
      "Car created Tesla Model 3\n",
      "Car created BMW i5 Touring\n"
     ]
    }
   ],
   "source": [
    "car1 = Car(\"Toyota\", \"bZ4X\")\n",
    "car2 = Car(\"Tesla\", \"Model 3\")\n",
    "car3 = Car(\"BMW\", \"i5 Touring\")"
   ]
  },
  {
   "cell_type": "markdown",
   "id": "fd299c40",
   "metadata": {},
   "source": [
    "## Task for extra point - complex constructor"
   ]
  },
  {
   "cell_type": "markdown",
   "id": "1562071a",
   "metadata": {},
   "source": [
    "# Class House"
   ]
  },
  {
   "cell_type": "code",
   "execution_count": 105,
   "id": "52b9b3df",
   "metadata": {},
   "outputs": [],
   "source": [
    "class House:\n",
    "    def __init__(self, location, floors, furnitures):\n",
    "          self.location = location\n",
    "          self.floors = floors\n",
    "          self.furnitures = furnitures\n",
    "          print(f\"House located in {self.location['city']}, {self.location['country']} on {self.location['street']}.\")\n",
    "          print(f\"Number of floors: {self.floors}\")\n",
    "          print(f\"Furnitures: {', '.join(self.furnitures)}\")"
   ]
  },
  {
   "cell_type": "code",
   "execution_count": 106,
   "id": "0c953a81",
   "metadata": {},
   "outputs": [
    {
     "name": "stdout",
     "output_type": "stream",
     "text": [
      "House located in Warsaw, Poland on Main Street 15.\n",
      "Number of floors: 2\n",
      "Furnitures: sofa, dining table, bed\n"
     ]
    }
   ],
   "source": [
    "house1 = House(\n",
    "    location={\n",
    "        'country': 'Poland',\n",
    "        'city': 'Warsaw',\n",
    "        'street': 'Main Street 15'\n",
    "    },\n",
    "    floors=2,\n",
    "    furnitures=['sofa', 'dining table', 'bed']\n",
    ")"
   ]
  },
  {
   "cell_type": "code",
   "execution_count": 107,
   "id": "742fee51",
   "metadata": {},
   "outputs": [
    {
     "name": "stdout",
     "output_type": "stream",
     "text": [
      "House located in Astana, Kazahstan on Jaskanat.\n",
      "Number of floors: 6\n",
      "Furnitures: sofa, dining table, bed, TV\n"
     ]
    }
   ],
   "source": [
    "house2 = House(\n",
    "    location={\n",
    "        'country': 'Kazahstan',\n",
    "        'city': 'Astana',\n",
    "        'street': 'Jaskanat'\n",
    "    },\n",
    "    floors=6,\n",
    "    furnitures=['sofa', 'dining table', 'bed', 'TV']\n",
    ")"
   ]
  }
 ],
 "metadata": {
  "kernelspec": {
   "display_name": ".venv",
   "language": "python",
   "name": "python3"
  },
  "language_info": {
   "codemirror_mode": {
    "name": "ipython",
    "version": 3
   },
   "file_extension": ".py",
   "mimetype": "text/x-python",
   "name": "python",
   "nbconvert_exporter": "python",
   "pygments_lexer": "ipython3",
   "version": "3.12.1"
  }
 },
 "nbformat": 4,
 "nbformat_minor": 5
}
