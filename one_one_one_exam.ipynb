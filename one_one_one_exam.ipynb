{
 "cells": [
  {
   "cell_type": "markdown",
   "id": "8790155a",
   "metadata": {},
   "source": [
    "# One_On_One\n"
   ]
  }
 ],
 "metadata": {
  "language_info": {
   "name": "python"
  }
 },
 "nbformat": 4,
 "nbformat_minor": 5
}
