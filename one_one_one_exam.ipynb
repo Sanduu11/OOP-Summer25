{
 "cells": [
  {
   "cell_type": "markdown",
   "id": "b479a354",
   "metadata": {},
   "source": [
    "# One on One"
   ]
  },
  {
   "cell_type": "code",
   "execution_count": 25,
   "id": "4d35d2ba",
   "metadata": {},
   "outputs": [
    {
     "name": "stdout",
     "output_type": "stream",
     "text": [
      "Sandugash Nurbolat\n"
     ]
    }
   ],
   "source": [
    "print(\"Sandugash Nurbolat\")"
   ]
  },
  {
   "cell_type": "code",
   "execution_count": 26,
   "id": "8db64ff6",
   "metadata": {},
   "outputs": [],
   "source": [
    "my_number = 35176"
   ]
  },
  {
   "cell_type": "code",
   "execution_count": 24,
   "id": "e912ce8a",
   "metadata": {},
   "outputs": [
    {
     "name": "stdout",
     "output_type": "stream",
     "text": [
      "<class 'int'>\n"
     ]
    }
   ],
   "source": [
    "print(type(my_number))"
   ]
  },
  {
   "cell_type": "code",
   "execution_count": 4,
   "id": "da2131f7",
   "metadata": {},
   "outputs": [],
   "source": [
    "fruits= [\"apple\", \"banana\", \"orange\", \"mango\"]"
   ]
  },
  {
   "cell_type": "code",
   "execution_count": 5,
   "id": "64650904",
   "metadata": {},
   "outputs": [
    {
     "name": "stdout",
     "output_type": "stream",
     "text": [
      "apple\n",
      "banana\n",
      "orange\n",
      "mango\n"
     ]
    }
   ],
   "source": [
    "for f in fruits:\n",
    "    print(f) "
   ]
  },
  {
   "cell_type": "code",
   "execution_count": 23,
   "id": "12bc8355",
   "metadata": {},
   "outputs": [
    {
     "name": "stdout",
     "output_type": "stream",
     "text": [
      "{'brand': 'BMW', 'model': '420i', 'price': 783645}\n"
     ]
    }
   ],
   "source": [
    "car_info = {\n",
    "  \"brand\": \"BMW\",\n",
    "  \"model\": \"420i\",\n",
    "  \"price\": 783645\n",
    "}\n",
    "print(car_info)"
   ]
  },
  {
   "cell_type": "code",
   "execution_count": 11,
   "id": "e05d3180",
   "metadata": {},
   "outputs": [],
   "source": [
    "class Student:\n",
    "    def __init__(self, name, index_number):\n",
    "        self.name = name\n",
    "        self.index_number = index_number"
   ]
  },
  {
   "cell_type": "code",
   "execution_count": 29,
   "id": "10ed8f28",
   "metadata": {},
   "outputs": [],
   "source": [
    "student1 = Student('Celina', '5743856')\n",
    "student2 = Student('Alin', '58723875')\n"
   ]
  },
  {
   "cell_type": "code",
   "execution_count": 30,
   "id": "65e2b21a",
   "metadata": {},
   "outputs": [
    {
     "name": "stdout",
     "output_type": "stream",
     "text": [
      "Celina 5743856\n",
      "Alin 58723875\n"
     ]
    }
   ],
   "source": [
    "print(student1.name, student1.index_number)\n",
    "print(student2.name, student2.index_number)\n"
   ]
  }
 ],
 "metadata": {
  "kernelspec": {
   "display_name": ".venv",
   "language": "python",
   "name": "python3"
  },
  "language_info": {
   "codemirror_mode": {
    "name": "ipython",
    "version": 3
   },
   "file_extension": ".py",
   "mimetype": "text/x-python",
   "name": "python",
   "nbconvert_exporter": "python",
   "pygments_lexer": "ipython3",
   "version": "3.12.1"
  }
 },
 "nbformat": 4,
 "nbformat_minor": 5
}
