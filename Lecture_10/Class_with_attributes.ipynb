{
 "cells": [
  {
   "cell_type": "markdown",
   "id": "8405d357",
   "metadata": {},
   "source": [
    "# Class_with_attributes"
   ]
  },
  {
   "cell_type": "code",
   "execution_count": 1,
   "id": "b86594c1",
   "metadata": {},
   "outputs": [],
   "source": [
    "class Phone:\n",
    "    def __init__(self, brand, color):\n",
    "        self.brand = brand\n",
    "        self.color = color"
   ]
  },
  {
   "cell_type": "code",
   "execution_count": 2,
   "id": "b822a0d3",
   "metadata": {},
   "outputs": [],
   "source": [
    "phone1 = Phone(\"Apple\", \"black\")"
   ]
  },
  {
   "cell_type": "code",
   "execution_count": 3,
   "id": "bf19b028",
   "metadata": {},
   "outputs": [
    {
     "name": "stdout",
     "output_type": "stream",
     "text": [
      "My black Apple phone\n"
     ]
    }
   ],
   "source": [
    "print(\"My\", phone1.color, phone1.brand, \"phone\")"
   ]
  }
 ],
 "metadata": {
  "kernelspec": {
   "display_name": ".venv",
   "language": "python",
   "name": "python3"
  },
  "language_info": {
   "codemirror_mode": {
    "name": "ipython",
    "version": 3
   },
   "file_extension": ".py",
   "mimetype": "text/x-python",
   "name": "python",
   "nbconvert_exporter": "python",
   "pygments_lexer": "ipython3",
   "version": "3.12.1"
  }
 },
 "nbformat": 4,
 "nbformat_minor": 5
}
