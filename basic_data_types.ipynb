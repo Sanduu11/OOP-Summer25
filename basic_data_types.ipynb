{
  "cells": [
    {
      "cell_type": "markdown",
      "id": "c36542d2-5296-4f68-a87f-a910a62e00d4",
      "metadata": {},
      "source": [
        "\n",
        "Simplest class ever"
      ]
    },
    {
      "cell_type": "code",
      "execution_count": 1,
      "id": "8c3a4a09-9e6a-48f6-8d20-1ce231049f91",
      "metadata": {
        "trusted": true
      },
      "outputs": [],
      "source": [
        "# Here's a very basic class\n",
        "# We give it one class attribute\n",
        "class Leaf:\n",
        "    type = \"Maple\""
      ]
    },
    {
      "cell_type": "markdown",
      "id": "b08d38e8-cf94-419a-ab47-a3aa89a0717c",
      "metadata": {},
      "source": [
        "Simplest object ever (using pass)"
      ]
    },
    {
      "cell_type": "code",
      "execution_count": 2,
      "id": "42496bac-a48b-4449-8581-d85d89fce1d8",
      "metadata": {
        "trusted": true
      },
      "outputs": [
        {
          "name": "stdout",
          "output_type": "stream",
          "text": [
            "<__main__.Paper object at 0x72357d9f1fa0>\n"
          ]
        }
      ],
      "source": [
        "class Paper:\n",
        "    pass \n",
        "\n",
        "my_paper = Paper()  \n",
        "print(my_paper)  "
      ]
    },
    {
      "cell_type": "markdown",
      "id": "d4d9cd79-5cfb-4d31-8edb-f08d194f7a13",
      "metadata": {},
      "source": [
        "class with one method"
      ]
    },
    {
      "cell_type": "code",
      "execution_count": 3,
      "id": "65ee65e5-7920-4cdd-ab85-d1b310dcf894",
      "metadata": {
        "trusted": true
      },
      "outputs": [],
      "source": [
        "# This class has one method that prints a message\n",
        "class Greeting:\n",
        "    def say_hello(self):\n",
        "        print(\"Hi there!\")"
      ]
    },
    {
      "cell_type": "markdown",
      "id": "e0fa1a6f-de76-443c-bf8c-2964316e8222",
      "metadata": {},
      "source": [
        "usage of that method"
      ]
    },
    {
      "cell_type": "code",
      "execution_count": 4,
      "id": "f045f066-2b11-4906-853b-63ccdee8ec56",
      "metadata": {
        "trusted": true
      },
      "outputs": [
        {
          "name": "stdout",
          "output_type": "stream",
          "text": [
            "Hi there!\n"
          ]
        }
      ],
      "source": [
        "g = Greeting()\n",
        "g.say_hello()"
      ]
    }
  ],
  "metadata": {
    "kernelspec": {
      "display_name": "Python 3",
      "language": "python",
      "name": "python3"
    },
    "language_info": {
      "codemirror_mode": {
        "name": "ipython",
        "version": 3
      },
      "file_extension": ".py",
      "mimetype": "text/x-python",
      "name": "python",
      "nbconvert_exporter": "python",
      "pygments_lexer": "ipython3",
      "version": "3.12.1"
    }
  },
  "nbformat": 4,
  "nbformat_minor": 5
}
